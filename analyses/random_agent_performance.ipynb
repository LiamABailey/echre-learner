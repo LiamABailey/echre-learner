{
 "cells": [
  {
   "cell_type": "markdown",
   "id": "b5044523",
   "metadata": {},
   "source": [
    "# Random Agent Performance\n",
    "A review of performance of random_players, when pitted against one another. \n",
    "\n",
    "**First Edit Date**: 1/24/2022<br/>\n",
    "**Last Edit Date**: 1/24/2022"
   ]
  },
  {
   "cell_type": "code",
   "execution_count": 1,
   "id": "96827f27",
   "metadata": {},
   "outputs": [],
   "source": [
    "from game_assets.table import Table\n",
    "from game_assets.players.random_player import RandomPlayer"
   ]
  },
  {
   "cell_type": "code",
   "execution_count": 49,
   "id": "e32abe7b",
   "metadata": {},
   "outputs": [],
   "source": [
    "# set up a table with 4 random players\n",
    "random_players = [RandomPlayer(i) for i in range(4)]\n",
    "random_table = Table(*random_players)"
   ]
  },
  {
   "cell_type": "code",
   "execution_count": 50,
   "id": "ac95d57c",
   "metadata": {},
   "outputs": [],
   "source": [
    "for _ in range(1000):\n",
    "    random_table.play_hand()"
   ]
  },
  {
   "cell_type": "code",
   "execution_count": 51,
   "id": "0ccb15b5",
   "metadata": {},
   "outputs": [
    {
     "data": {
      "text/plain": [
       "[877, 664]"
      ]
     },
     "execution_count": 51,
     "metadata": {},
     "output_type": "execute_result"
    }
   ],
   "source": [
    "random_table.get_scores()"
   ]
  },
  {
   "cell_type": "markdown",
   "id": "a01291f6",
   "metadata": {},
   "source": [
    "Hypothesis: Because at 25% odds of pickup and then subsequent trump calling, the "
   ]
  }
 ],
 "metadata": {
  "kernelspec": {
   "display_name": "Python 3 (ipykernel)",
   "language": "python",
   "name": "python3"
  },
  "language_info": {
   "codemirror_mode": {
    "name": "ipython",
    "version": 3
   },
   "file_extension": ".py",
   "mimetype": "text/x-python",
   "name": "python",
   "nbconvert_exporter": "python",
   "pygments_lexer": "ipython3",
   "version": "3.9.7"
  }
 },
 "nbformat": 4,
 "nbformat_minor": 5
}
